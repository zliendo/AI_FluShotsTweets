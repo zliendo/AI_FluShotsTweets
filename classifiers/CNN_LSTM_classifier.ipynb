{
 "cells": [
  {
   "cell_type": "code",
   "execution_count": 1,
   "metadata": {
    "collapsed": false
   },
   "outputs": [
    {
     "ename": "ImportError",
     "evalue": "No module named tensorflow",
     "output_type": "error",
     "traceback": [
      "\u001b[1;31m---------------------------------------------------------------------------\u001b[0m",
      "\u001b[1;31mImportError\u001b[0m                               Traceback (most recent call last)",
      "\u001b[1;32m<ipython-input-1-8402db328144>\u001b[0m in \u001b[0;36m<module>\u001b[1;34m()\u001b[0m\n\u001b[0;32m      2\u001b[0m \u001b[1;32mimport\u001b[0m \u001b[0mrandom\u001b[0m\u001b[1;33m\u001b[0m\u001b[0m\n\u001b[0;32m      3\u001b[0m \u001b[1;32mfrom\u001b[0m \u001b[0msklearn\u001b[0m \u001b[1;32mimport\u001b[0m \u001b[0mmetrics\u001b[0m\u001b[1;33m\u001b[0m\u001b[0m\n\u001b[1;32m----> 4\u001b[1;33m \u001b[1;32mimport\u001b[0m \u001b[0mtensorflow\u001b[0m \u001b[1;32mas\u001b[0m \u001b[0mtf\u001b[0m\u001b[1;33m\u001b[0m\u001b[0m\n\u001b[0m\u001b[0;32m      5\u001b[0m \u001b[1;32mfrom\u001b[0m \u001b[0msklearn\u001b[0m\u001b[1;33m.\u001b[0m\u001b[0mmetrics\u001b[0m \u001b[1;32mimport\u001b[0m \u001b[0mf1_score\u001b[0m\u001b[1;33m\u001b[0m\u001b[0m\n\u001b[0;32m      6\u001b[0m \u001b[1;32mimport\u001b[0m \u001b[0mnumpy\u001b[0m \u001b[1;32mas\u001b[0m \u001b[0mnp\u001b[0m\u001b[1;33m\u001b[0m\u001b[0m\n",
      "\u001b[1;31mImportError\u001b[0m: No module named tensorflow"
     ]
    }
   ],
   "source": [
    "import csv\n",
    "import random\n",
    "from sklearn import metrics\n",
    "import tensorflow as tf\n",
    "from sklearn.metrics import f1_score\n",
    "import numpy as np\n",
    "\n",
    "import pickle\n",
    "\n",
    "# custom functions\n",
    "%load_ext autoreload\n",
    "%autoreload 2\n",
    "import util_helpers\n",
    "import cnn_model\n",
    "#import cnn_att\n",
    "#import lstm_model\n",
    "import lstm_att_model"
   ]
  },
  {
   "cell_type": "markdown",
   "metadata": {},
   "source": [
    "## Reading File"
   ]
  },
  {
   "cell_type": "code",
   "execution_count": 115,
   "metadata": {
    "collapsed": true
   },
   "outputs": [],
   "source": [
    "with open('../labeling_tweets/Data/batch1_to_12.csv', 'rb') as csvfile:\n",
    "    twitter_flu_reader = csv.reader(csvfile)\n",
    "    twitter_flu_list = list(twitter_flu_reader)    \n",
    "random.shuffle(twitter_flu_list)"
   ]
  },
  {
   "cell_type": "code",
   "execution_count": 116,
   "metadata": {
    "collapsed": false
   },
   "outputs": [
    {
     "data": {
      "text/plain": [
       "6975"
      ]
     },
     "execution_count": 116,
     "metadata": {},
     "output_type": "execute_result"
    }
   ],
   "source": [
    "len(twitter_flu_list)"
   ]
  },
  {
   "cell_type": "code",
   "execution_count": 117,
   "metadata": {
    "collapsed": true
   },
   "outputs": [],
   "source": [
    "tweets= [row[1] for row in twitter_flu_list]\n",
    "labels = [row[2] for row in twitter_flu_list]"
   ]
  },
  {
   "cell_type": "markdown",
   "metadata": {},
   "source": [
    "## Pre Processing Tweets"
   ]
  },
  {
   "cell_type": "code",
   "execution_count": 118,
   "metadata": {
    "collapsed": true
   },
   "outputs": [],
   "source": [
    "tweets_text = util_helpers.pre_process_tweets (tweets)"
   ]
  },
  {
   "cell_type": "code",
   "execution_count": 119,
   "metadata": {
    "collapsed": false
   },
   "outputs": [
    {
     "name": "stdout",
     "output_type": "stream",
     "text": [
      "Vocabulary size: 6717\n",
      "Average note length: 15.9840860215\n",
      "Max note length: 36\n"
     ]
    }
   ],
   "source": [
    "MAX_VOCAB = None # to limit original number of words (None if no limit)\n",
    "data_vectorized, dictionary, MAX_VOCAB, tokenizer = util_helpers.vectorize_tweets(tweets_text, MAX_VOCAB, verbose = True)"
   ]
  },
  {
   "cell_type": "code",
   "execution_count": 120,
   "metadata": {
    "collapsed": true
   },
   "outputs": [],
   "source": [
    "#save tokenizer\n",
    "with open(\"keras_tokenizer.pickle\", \"wb\") as f:\n",
    "    pickle.dump(tokenizer, f)"
   ]
  },
  {
   "cell_type": "code",
   "execution_count": 121,
   "metadata": {
    "collapsed": false
   },
   "outputs": [
    {
     "name": "stdout",
     "output_type": "stream",
     "text": [
      "Final Vocabulary: 6717\n",
      "Final Max Sequence Length: 35\n"
     ]
    }
   ],
   "source": [
    "MAX_SEQ_LENGTH = 35\n",
    "tweets_data, MAX_SEQ_LENGTH = util_helpers.pad_tweets(data_vectorized, MAX_SEQ_LENGTH)\n",
    "\n",
    "print(\"Final Vocabulary: %s\" % MAX_VOCAB)\n",
    "print(\"Final Max Sequence Length: %s\" % MAX_SEQ_LENGTH)\n"
   ]
  },
  {
   "cell_type": "markdown",
   "metadata": {},
   "source": [
    "## Pre Processing Labels"
   ]
  },
  {
   "cell_type": "code",
   "execution_count": 123,
   "metadata": {
    "collapsed": true
   },
   "outputs": [],
   "source": [
    "v_labels = util_helpers.vectorize_label(labels)"
   ]
  },
  {
   "cell_type": "markdown",
   "metadata": {},
   "source": [
    "## Splitting files"
   ]
  },
  {
   "cell_type": "code",
   "execution_count": 124,
   "metadata": {
    "collapsed": false
   },
   "outputs": [
    {
     "name": "stdout",
     "output_type": "stream",
     "text": [
      "Training set samples: 5928\n",
      "Dev set samples: 1047\n"
     ]
    }
   ],
   "source": [
    "#train_tweets, dev_tweets, test_tweets = util_helpers.split_data (tweets_data)\n",
    "#train_labels, dev_labels, test_labels = util_helpers.split_data (v_labels)\n",
    "train_tweets, dev_tweets= util_helpers.split_data2 (tweets_data,train_frac = 0.85)\n",
    "train_labels, dev_labels = util_helpers.split_data2 (v_labels,train_frac = 0.85)\n",
    "print 'Training set samples:', len (train_tweets)\n",
    "print 'Dev set samples:', len (dev_tweets)\n",
    "#print 'Test set samples:', len (test_tweets)"
   ]
  },
  {
   "cell_type": "code",
   "execution_count": 125,
   "metadata": {
    "collapsed": false
   },
   "outputs": [
    {
     "data": {
      "text/plain": [
       "{0: 0.56317689530685922, 1: 4.4571428571428573}"
      ]
     },
     "execution_count": 125,
     "metadata": {},
     "output_type": "execute_result"
    }
   ],
   "source": [
    "# class weights\n",
    "from sklearn.utils import class_weight\n",
    "labels_list =np.unique(train_labels)\n",
    "class_weight = class_weight.compute_class_weight('balanced', labels_list, train_labels)\n",
    "class_weight_dict = {labels_list[0]: class_weight[0], labels_list[1]: class_weight[1] }\n",
    "class_weight_dict"
   ]
  },
  {
   "cell_type": "code",
   "execution_count": 126,
   "metadata": {
    "collapsed": false
   },
   "outputs": [
    {
     "data": {
      "text/plain": [
       "122"
      ]
     },
     "execution_count": 126,
     "metadata": {},
     "output_type": "execute_result"
    }
   ],
   "source": [
    "tp_dev  = sum (dev_labels)\n",
    "tp_dev"
   ]
  },
  {
   "cell_type": "markdown",
   "metadata": {},
   "source": [
    "## LSTM with attention Model"
   ]
  },
  {
   "cell_type": "code",
   "execution_count": 149,
   "metadata": {
    "collapsed": false
   },
   "outputs": [
    {
     "name": "stdout",
     "output_type": "stream",
     "text": [
      "____________________________________________________________________________________________________\n",
      "Layer (type)                     Output Shape          Param #     Connected to                     \n",
      "====================================================================================================\n",
      "input_20 (InputLayer)            (None, 35)            0                                            \n",
      "____________________________________________________________________________________________________\n",
      "Embedding (Embedding)            (None, 35, 100)       671800      input_20[0][0]                   \n",
      "____________________________________________________________________________________________________\n",
      "lstm_8 (LSTM)                    (None, 35, 35)        19040       Embedding[0][0]                  \n",
      "____________________________________________________________________________________________________\n",
      "dropout_34 (Dropout)             (None, 35, 35)        0           lstm_8[0][0]                     \n",
      "____________________________________________________________________________________________________\n",
      "time_distributed_15 (TimeDistrib (None, 35, 35)        1260        dropout_34[0][0]                 \n",
      "____________________________________________________________________________________________________\n",
      "dropout_35 (Dropout)             (None, 35, 35)        0           time_distributed_15[0][0]        \n",
      "____________________________________________________________________________________________________\n",
      "time_distributed_16 (TimeDistrib (None, 35, 1)         35          dropout_35[0][0]                 \n",
      "____________________________________________________________________________________________________\n",
      "reshape_8 (Reshape)              (None, 35)            0           time_distributed_16[0][0]        \n",
      "____________________________________________________________________________________________________\n",
      "alpha_it_softmax1 (Activation)   (None, 35)            0           reshape_8[0][0]                  \n",
      "____________________________________________________________________________________________________\n",
      "s_i_dot1 (Merge)                 (None, 35)            0           alpha_it_softmax1[0][0]          \n",
      "                                                                   dropout_34[0][0]                 \n",
      "____________________________________________________________________________________________________\n",
      "dropout_36 (Dropout)             (None, 35)            0           s_i_dot1[0][0]                   \n",
      "____________________________________________________________________________________________________\n",
      "Output_Layer (Dense)             (None, 1)             36          dropout_36[0][0]                 \n",
      "====================================================================================================\n",
      "Total params: 692,171\n",
      "Trainable params: 692,171\n",
      "Non-trainable params: 0\n",
      "____________________________________________________________________________________________________\n",
      "None\n"
     ]
    }
   ],
   "source": [
    "reload(lstm_att_model)\n",
    "\n",
    "NUM_CLASSES = 1\n",
    "EMBEDDING_DIM = 100\n",
    "#### build model\n",
    "model = lstm_att_model.build_lstm_att_model(input_seq_length=MAX_SEQ_LENGTH, max_vocab = MAX_VOCAB,\n",
    "                             external_embeddings = False,\n",
    "                             embedding_dim=EMBEDDING_DIM, embedding_matrix= None,\n",
    "                             training_dropout_keep_prob=0.5,\n",
    "                             num_classes=NUM_CLASSES )\n",
    "\n",
    "\n",
    "\n"
   ]
  },
  {
   "cell_type": "code",
   "execution_count": 150,
   "metadata": {
    "collapsed": false,
    "scrolled": true
   },
   "outputs": [
    {
     "name": "stdout",
     "output_type": "stream",
     "text": [
      "Train on 5928 samples, validate on 1047 samples\n",
      "Epoch 1/5\n",
      "9s - loss: 0.6670 - acc: 0.6090 - val_loss: 0.4855 - val_acc: 0.8548\n",
      "Epoch 2/5\n",
      "8s - loss: 0.4877 - acc: 0.8171 - val_loss: 0.5240 - val_acc: 0.7813\n",
      "Epoch 3/5\n",
      "9s - loss: 0.4041 - acc: 0.8482 - val_loss: 0.5005 - val_acc: 0.7937\n",
      "Epoch 4/5\n",
      "9s - loss: 0.3468 - acc: 0.8785 - val_loss: 0.4888 - val_acc: 0.8071\n",
      "Epoch 5/5\n",
      "8s - loss: 0.2989 - acc: 0.9027 - val_loss: 0.4170 - val_acc: 0.8510\n"
     ]
    },
    {
     "data": {
      "text/plain": [
       "<keras.callbacks.History at 0x7fd19bad4b10>"
      ]
     },
     "execution_count": 150,
     "metadata": {},
     "output_type": "execute_result"
    }
   ],
   "source": [
    "# Train the model\n",
    "model.fit(train_tweets, train_labels, batch_size=50, epochs=5, validation_data=(dev_tweets, dev_labels), \n",
    "          class_weight=class_weight_dict, verbose=2)"
   ]
  },
  {
   "cell_type": "code",
   "execution_count": 151,
   "metadata": {
    "collapsed": true
   },
   "outputs": [],
   "source": [
    "pred_train = model.predict(train_tweets, batch_size=50)\n",
    "pred_dev = model.predict(dev_tweets, batch_size=50)\n"
   ]
  },
  {
   "cell_type": "code",
   "execution_count": 152,
   "metadata": {
    "collapsed": false
   },
   "outputs": [
    {
     "data": {
      "text/plain": [
       "0.89990252547629601"
      ]
     },
     "execution_count": 152,
     "metadata": {},
     "output_type": "execute_result"
    }
   ],
   "source": [
    "from sklearn import metrics\n",
    "fpr, tpr, thresholds = metrics.roc_curve(dev_labels,pred_dev, pos_label = 1)\n",
    "roc_auc = metrics.auc(fpr, tpr)\n",
    "roc_auc"
   ]
  },
  {
   "cell_type": "code",
   "execution_count": 153,
   "metadata": {
    "collapsed": false,
    "scrolled": false
   },
   "outputs": [
    {
     "name": "stdout",
     "output_type": "stream",
     "text": [
      "F1 scores\n",
      "threshold   |  tn   |  fp  |   fn   |  tp   | f1 score                  | recall  |precision|\n",
      "-----------------------------------------------------------------------------------------------\n",
      "0.050:        124     801       0     122    ( 0.236 ,  0.233 ) = 0.235   1.000     0.132  \n",
      "-----------------------------------------------------------------------------------------------\n",
      "0.100:        549     376       7     115    ( 0.741 ,  0.375 ) = 0.634   0.943     0.234  \n",
      "-----------------------------------------------------------------------------------------------\n",
      "0.150:        618     307      13     109    ( 0.794 ,  0.405 ) = 0.694   0.893     0.262  \n",
      "-----------------------------------------------------------------------------------------------\n",
      "0.200:        671     254      14     108    ( 0.834 ,  0.446 ) = 0.744   0.885     0.298  \n",
      "-----------------------------------------------------------------------------------------------\n",
      "0.250:        703     222      17     105    ( 0.855 ,  0.468 ) = 0.772   0.861     0.321  \n",
      "-----------------------------------------------------------------------------------------------\n",
      "0.300:        725     200      19     103    ( 0.869 ,  0.485 ) = 0.791   0.844     0.340  \n",
      "-----------------------------------------------------------------------------------------------\n",
      "0.400:        758     167      23      99    ( 0.889 ,  0.510 ) = 0.819   0.811     0.372  \n",
      "-----------------------------------------------------------------------------------------------\n",
      "0.500:        796     129      27      95    ( 0.911 ,  0.549 ) = 0.851   0.779     0.424  \n",
      "-----------------------------------------------------------------------------------------------\n",
      "0.600:        815     110      30      92    ( 0.921 ,  0.568 ) = 0.866   0.754     0.455  \n",
      "-----------------------------------------------------------------------------------------------\n",
      "0.700:        839      86      35      87    ( 0.933 ,  0.590 ) = 0.884   0.713     0.503  \n",
      "-----------------------------------------------------------------------------------------------\n",
      "0.800:        856      69      41      81    ( 0.940 ,  0.596 ) = 0.895   0.664     0.540  \n",
      "-----------------------------------------------------------------------------------------------\n",
      "0.900:        884      41      59      63    ( 0.946 ,  0.558 ) = 0.904   0.516     0.606  \n",
      "-----------------------------------------------------------------------------------------------\n",
      "0.950:        903      22      79      43    ( 0.947 ,  0.460 ) = 0.904   0.352     0.662  \n",
      "-----------------------------------------------------------------------------------------------\n"
     ]
    }
   ],
   "source": [
    "util_helpers.show_scores( dev_labels,pred_dev)"
   ]
  },
  {
   "cell_type": "code",
   "execution_count": 154,
   "metadata": {
    "collapsed": true
   },
   "outputs": [],
   "source": [
    "model.save('lstm_model.h5')"
   ]
  },
  {
   "cell_type": "markdown",
   "metadata": {},
   "source": [
    "## CNN"
   ]
  },
  {
   "cell_type": "code",
   "execution_count": 134,
   "metadata": {
    "collapsed": false
   },
   "outputs": [
    {
     "name": "stdout",
     "output_type": "stream",
     "text": [
      "____________________________________________________________________________________________________\n",
      "Layer (type)                     Output Shape          Param #     Connected to                     \n",
      "====================================================================================================\n",
      "input_17 (InputLayer)            (None, 35)            0                                            \n",
      "____________________________________________________________________________________________________\n",
      "embedding (Embedding)            (None, 35, 100)       671800      input_17[0][0]                   \n",
      "____________________________________________________________________________________________________\n",
      "conv1d_56 (Conv1D)               (None, 34, 100)       20100       embedding[0][0]                  \n",
      "____________________________________________________________________________________________________\n",
      "conv1d_57 (Conv1D)               (None, 33, 100)       30100       embedding[0][0]                  \n",
      "____________________________________________________________________________________________________\n",
      "conv1d_58 (Conv1D)               (None, 32, 100)       40100       embedding[0][0]                  \n",
      "____________________________________________________________________________________________________\n",
      "conv1d_59 (Conv1D)               (None, 31, 100)       50100       embedding[0][0]                  \n",
      "____________________________________________________________________________________________________\n",
      "conv1d_60 (Conv1D)               (None, 30, 100)       60100       embedding[0][0]                  \n",
      "____________________________________________________________________________________________________\n",
      "max_pooling1d_56 (MaxPooling1D)  (None, 1, 100)        0           conv1d_56[0][0]                  \n",
      "____________________________________________________________________________________________________\n",
      "max_pooling1d_57 (MaxPooling1D)  (None, 1, 100)        0           conv1d_57[0][0]                  \n",
      "____________________________________________________________________________________________________\n",
      "max_pooling1d_58 (MaxPooling1D)  (None, 1, 100)        0           conv1d_58[0][0]                  \n",
      "____________________________________________________________________________________________________\n",
      "max_pooling1d_59 (MaxPooling1D)  (None, 1, 100)        0           conv1d_59[0][0]                  \n",
      "____________________________________________________________________________________________________\n",
      "max_pooling1d_60 (MaxPooling1D)  (None, 1, 100)        0           conv1d_60[0][0]                  \n",
      "____________________________________________________________________________________________________\n",
      "flatten_56 (Flatten)             (None, 100)           0           max_pooling1d_56[0][0]           \n",
      "____________________________________________________________________________________________________\n",
      "flatten_57 (Flatten)             (None, 100)           0           max_pooling1d_57[0][0]           \n",
      "____________________________________________________________________________________________________\n",
      "flatten_58 (Flatten)             (None, 100)           0           max_pooling1d_58[0][0]           \n",
      "____________________________________________________________________________________________________\n",
      "flatten_59 (Flatten)             (None, 100)           0           max_pooling1d_59[0][0]           \n",
      "____________________________________________________________________________________________________\n",
      "flatten_60 (Flatten)             (None, 100)           0           max_pooling1d_60[0][0]           \n",
      "____________________________________________________________________________________________________\n",
      "concatenate_12 (Concatenate)     (None, 500)           0           flatten_56[0][0]                 \n",
      "                                                                   flatten_57[0][0]                 \n",
      "                                                                   flatten_58[0][0]                 \n",
      "                                                                   flatten_59[0][0]                 \n",
      "                                                                   flatten_60[0][0]                 \n",
      "____________________________________________________________________________________________________\n",
      "dropout_27 (Dropout)             (None, 500)           0           concatenate_12[0][0]             \n",
      "____________________________________________________________________________________________________\n",
      "dense_17 (Dense)                 (None, 1)             501         dropout_27[0][0]                 \n",
      "====================================================================================================\n",
      "Total params: 872,801\n",
      "Trainable params: 872,801\n",
      "Non-trainable params: 0\n",
      "____________________________________________________________________________________________________\n",
      "None\n"
     ]
    }
   ],
   "source": [
    "reload(cnn_model)\n",
    "\n",
    "NUM_CLASSES = 1\n",
    "EMBEDDING_DIM = 100\n",
    "#### build model\n",
    "cnn_tmodel = cnn_model.build_cnn_model (input_seq_length=MAX_SEQ_LENGTH, max_vocab = MAX_VOCAB,\n",
    "                            external_embeddings = False,\n",
    "                             embedding_dim=EMBEDDING_DIM, embedding_matrix= None,        \n",
    "                                   num_filters = 100, filter_sizes=[2,3,4,5,6], \n",
    "                                   training_dropout_keep_prob=0.5,\n",
    "                           num_classes=NUM_CLASSES )\n",
    "\n"
   ]
  },
  {
   "cell_type": "code",
   "execution_count": 135,
   "metadata": {
    "collapsed": false
   },
   "outputs": [
    {
     "name": "stdout",
     "output_type": "stream",
     "text": [
      "Train on 5928 samples, validate on 1047 samples\n",
      "Epoch 1/5\n",
      "14s - loss: 0.5869 - acc: 0.6581 - val_loss: 0.4499 - val_acc: 0.8042\n",
      "Epoch 2/5\n",
      "16s - loss: 0.3973 - acc: 0.8359 - val_loss: 0.3537 - val_acc: 0.8481\n",
      "Epoch 3/5\n",
      "13s - loss: 0.2881 - acc: 0.8785 - val_loss: 0.4467 - val_acc: 0.8080\n",
      "Epoch 4/5\n",
      "12s - loss: 0.2199 - acc: 0.9163 - val_loss: 0.4723 - val_acc: 0.8185\n",
      "Epoch 5/5\n",
      "13s - loss: 0.1660 - acc: 0.9406 - val_loss: 0.4072 - val_acc: 0.8558\n"
     ]
    },
    {
     "data": {
      "text/plain": [
       "<keras.callbacks.History at 0x7fd19cac2650>"
      ]
     },
     "execution_count": 135,
     "metadata": {},
     "output_type": "execute_result"
    }
   ],
   "source": [
    "cnn_tmodel.fit(train_tweets, train_labels, batch_size=50, epochs=5, validation_data=(dev_tweets, dev_labels), \n",
    "          class_weight=class_weight_dict, verbose=2)"
   ]
  },
  {
   "cell_type": "code",
   "execution_count": 136,
   "metadata": {
    "collapsed": false
   },
   "outputs": [
    {
     "data": {
      "text/plain": [
       "0.88251661497563139"
      ]
     },
     "execution_count": 136,
     "metadata": {},
     "output_type": "execute_result"
    }
   ],
   "source": [
    "pred_train = cnn_tmodel.predict(train_tweets, batch_size=50)\n",
    "pred_dev = cnn_tmodel.predict(dev_tweets, batch_size=50)\n",
    "from sklearn import metrics\n",
    "fpr, tpr, thresholds = metrics.roc_curve(dev_labels,pred_dev, pos_label = 1)\n",
    "roc_auc = metrics.auc(fpr, tpr)\n",
    "roc_auc"
   ]
  },
  {
   "cell_type": "code",
   "execution_count": 137,
   "metadata": {
    "collapsed": false
   },
   "outputs": [
    {
     "name": "stdout",
     "output_type": "stream",
     "text": [
      "F1 scores\n",
      "threshold   |  tn   |  fp  |   fn   |  tp   | f1 score                  | recall  |precision|\n",
      "-----------------------------------------------------------------------------------------------\n",
      "0.050:        570     355      11     111    ( 0.757 ,  0.378 ) = 0.650   0.910     0.238  \n",
      "-----------------------------------------------------------------------------------------------\n",
      "0.100:        631     294      14     108    ( 0.804 ,  0.412 ) = 0.706   0.885     0.269  \n",
      "-----------------------------------------------------------------------------------------------\n",
      "0.150:        669     256      18     104    ( 0.830 ,  0.432 ) = 0.738   0.852     0.289  \n",
      "-----------------------------------------------------------------------------------------------\n",
      "0.200:        705     220      22     100    ( 0.854 ,  0.452 ) = 0.769   0.820     0.312  \n",
      "-----------------------------------------------------------------------------------------------\n",
      "0.250:        736     189      24      98    ( 0.874 ,  0.479 ) = 0.797   0.803     0.341  \n",
      "-----------------------------------------------------------------------------------------------\n",
      "0.300:        754     171      26      96    ( 0.884 ,  0.494 ) = 0.812   0.787     0.360  \n",
      "-----------------------------------------------------------------------------------------------\n",
      "0.400:        780     145      30      92    ( 0.899 ,  0.513 ) = 0.833   0.754     0.388  \n",
      "-----------------------------------------------------------------------------------------------\n",
      "0.500:        810     115      36      86    ( 0.915 ,  0.533 ) = 0.856   0.705     0.428  \n",
      "-----------------------------------------------------------------------------------------------\n",
      "0.600:        832      93      39      83    ( 0.927 ,  0.557 ) = 0.874   0.680     0.472  \n",
      "-----------------------------------------------------------------------------------------------\n",
      "0.700:        845      80      46      76    ( 0.931 ,  0.547 ) = 0.880   0.623     0.487  \n",
      "-----------------------------------------------------------------------------------------------\n",
      "0.800:        862      63      50      72    ( 0.938 ,  0.560 ) = 0.892   0.590     0.533  \n",
      "-----------------------------------------------------------------------------------------------\n",
      "0.900:        883      42      61      61    ( 0.945 ,  0.542 ) = 0.902   0.500     0.592  \n",
      "-----------------------------------------------------------------------------------------------\n",
      "0.950:        899      26      73      49    ( 0.948 ,  0.497 ) = 0.905   0.402     0.653  \n",
      "-----------------------------------------------------------------------------------------------\n"
     ]
    }
   ],
   "source": [
    "util_helpers.show_scores( dev_labels,pred_dev)"
   ]
  },
  {
   "cell_type": "code",
   "execution_count": 138,
   "metadata": {
    "collapsed": true
   },
   "outputs": [],
   "source": [
    "model.save('cnn_model.h5')"
   ]
  },
  {
   "cell_type": "code",
   "execution_count": null,
   "metadata": {
    "collapsed": true
   },
   "outputs": [],
   "source": []
  }
 ],
 "metadata": {
  "anaconda-cloud": {},
  "kernelspec": {
   "display_name": "Python [Root]",
   "language": "python",
   "name": "Python [Root]"
  },
  "language_info": {
   "codemirror_mode": {
    "name": "ipython",
    "version": 2
   },
   "file_extension": ".py",
   "mimetype": "text/x-python",
   "name": "python",
   "nbconvert_exporter": "python",
   "pygments_lexer": "ipython2",
   "version": "2.7.12"
  }
 },
 "nbformat": 4,
 "nbformat_minor": 1
}
