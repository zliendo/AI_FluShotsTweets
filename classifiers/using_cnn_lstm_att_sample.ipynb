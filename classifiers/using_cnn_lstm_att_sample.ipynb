{
 "cells": [
  {
   "cell_type": "code",
   "execution_count": 1,
   "metadata": {
    "collapsed": false
   },
   "outputs": [
    {
     "name": "stderr",
     "output_type": "stream",
     "text": [
      "Using TensorFlow backend.\n"
     ]
    }
   ],
   "source": [
    "import tensorflow as tf\n",
    "from keras.models import load_model\n",
    "import csv\n",
    "import pickle\n",
    "from sklearn.metrics import (brier_score_loss, precision_score, recall_score,\n",
    "                             f1_score)\n",
    "from sklearn.metrics import confusion_matrix\n",
    "import numpy as np\n",
    "# custom functions\n",
    "%load_ext autoreload\n",
    "%autoreload 2\n",
    "import util_helpers"
   ]
  },
  {
   "cell_type": "markdown",
   "metadata": {},
   "source": [
    "## Read tokenizer and  Models"
   ]
  },
  {
   "cell_type": "code",
   "execution_count": 56,
   "metadata": {
    "collapsed": true
   },
   "outputs": [],
   "source": [
    "with open(\"keras_tokenizer.pickle\", \"rb\") as f:\n",
    "    tokenizer = pickle.load(f)\n",
    "\n",
    "cnn_model = load_model('cnn_model.h5')\n",
    "lstm_att_model = load_model('lstm_model.h5')"
   ]
  },
  {
   "cell_type": "markdown",
   "metadata": {},
   "source": [
    "## Read File"
   ]
  },
  {
   "cell_type": "code",
   "execution_count": 3,
   "metadata": {
    "collapsed": true
   },
   "outputs": [],
   "source": [
    "with open('../labeling_tweets/Data/batch1_to_12.csv', 'rb') as csvfile:\n",
    "    twitter_flu_reader = csv.reader(csvfile)\n",
    "    twitter_flu_list = list(twitter_flu_reader) \n",
    "tweets= [row[1] for row in twitter_flu_list]\n",
    "labels = [row[2] for row in twitter_flu_list]\n"
   ]
  },
  {
   "cell_type": "code",
   "execution_count": 4,
   "metadata": {
    "collapsed": true
   },
   "outputs": [],
   "source": [
    "n_labels = np.where(np.array(labels) =='Y', 1,0)"
   ]
  },
  {
   "cell_type": "code",
   "execution_count": 5,
   "metadata": {
    "collapsed": true
   },
   "outputs": [],
   "source": [
    "#labels[0:100]"
   ]
  },
  {
   "cell_type": "markdown",
   "metadata": {},
   "source": [
    "## Preprocess Tweets"
   ]
  },
  {
   "cell_type": "code",
   "execution_count": 6,
   "metadata": {
    "collapsed": true
   },
   "outputs": [],
   "source": [
    "MAX_SEQ_LENGTH = 35\n",
    "tweets_data = util_helpers.preprocess_tweets(tweets, tokenizer,MAX_SEQ_LENGTH)"
   ]
  },
  {
   "cell_type": "markdown",
   "metadata": {},
   "source": [
    "## CNN Predict"
   ]
  },
  {
   "cell_type": "code",
   "execution_count": 36,
   "metadata": {
    "collapsed": true
   },
   "outputs": [],
   "source": [
    "pred_probabilities = cnn_model.predict(tweets_data, batch_size=50).flatten()\n",
    "with open(\"cnn_pred_probabilities.pickle\", \"w\") as f:\n",
    "    pickle.dump(pred_probabilities, f)"
   ]
  },
  {
   "cell_type": "code",
   "execution_count": 37,
   "metadata": {
    "collapsed": false
   },
   "outputs": [
    {
     "name": "stdout",
     "output_type": "stream",
     "text": [
      "F1 scores\n",
      "threshold   |  tn   |  fp  |   fn   |  tp   | f1 score                  | recall  |precision|\n",
      "-----------------------------------------------------------------------------------------------\n",
      "0.050:       3548    2640      19     768    ( 0.727 ,  0.366 ) = 0.619   0.976     0.225  \n",
      "-----------------------------------------------------------------------------------------------\n",
      "0.100:       4711    1477      30     757    ( 0.862 ,  0.501 ) = 0.784   0.962     0.339  \n",
      "-----------------------------------------------------------------------------------------------\n",
      "0.150:       5054    1134      33     754    ( 0.896 ,  0.564 ) = 0.833   0.958     0.399  \n",
      "-----------------------------------------------------------------------------------------------\n",
      "0.200:       5235     953      36     751    ( 0.914 ,  0.603 ) = 0.858   0.954     0.441  \n",
      "-----------------------------------------------------------------------------------------------\n",
      "0.250:       5353     835      37     750    ( 0.925 ,  0.632 ) = 0.875   0.953     0.473  \n",
      "-----------------------------------------------------------------------------------------------\n",
      "0.300:       5437     751      40     747    ( 0.932 ,  0.654 ) = 0.887   0.949     0.499  \n",
      "-----------------------------------------------------------------------------------------------\n",
      "0.400:       5571     617      46     741    ( 0.944 ,  0.691 ) = 0.905   0.942     0.546  \n",
      "-----------------------------------------------------------------------------------------------\n",
      "0.500:       5662     526      53     734    ( 0.951 ,  0.717 ) = 0.917   0.933     0.583  \n",
      "-----------------------------------------------------------------------------------------------\n",
      "0.600:       5748     440      59     728    ( 0.958 ,  0.745 ) = 0.928   0.925     0.623  \n",
      "-----------------------------------------------------------------------------------------------\n",
      "0.700:       5830     358      70     717    ( 0.965 ,  0.770 ) = 0.939   0.911     0.667  \n",
      "-----------------------------------------------------------------------------------------------\n",
      "0.800:       5906     282      92     695    ( 0.969 ,  0.788 ) = 0.946   0.883     0.711  \n",
      "-----------------------------------------------------------------------------------------------\n",
      "0.900:       6009     179     158     629    ( 0.973 ,  0.789 ) = 0.952   0.799     0.778  \n",
      "-----------------------------------------------------------------------------------------------\n",
      "0.950:       6093      95     308     479    ( 0.968 ,  0.704 ) = 0.942   0.609     0.834  \n",
      "-----------------------------------------------------------------------------------------------\n"
     ]
    }
   ],
   "source": [
    "util_helpers.show_scores(n_labels, pred_probabilities)"
   ]
  },
  {
   "cell_type": "code",
   "execution_count": 38,
   "metadata": {
    "collapsed": false
   },
   "outputs": [
    {
     "data": {
      "text/plain": [
       "0.92382621116083996"
      ]
     },
     "execution_count": 38,
     "metadata": {},
     "output_type": "execute_result"
    }
   ],
   "source": [
    "from sklearn import metrics\n",
    "fpr, tpr, thresholds = metrics.roc_curve(n_labels, n_pred_labels, pos_label = 1)\n",
    "roc_auc = metrics.auc(fpr, tpr)\n",
    "roc_auc"
   ]
  },
  {
   "cell_type": "markdown",
   "metadata": {},
   "source": [
    "### Predict one tweet samples"
   ]
  },
  {
   "cell_type": "code",
   "execution_count": 39,
   "metadata": {
    "collapsed": true
   },
   "outputs": [],
   "source": [
    "threshold = 0.8"
   ]
  },
  {
   "cell_type": "code",
   "execution_count": 47,
   "metadata": {
    "collapsed": true
   },
   "outputs": [],
   "source": [
    "def predict_one_tweet(tweet_text,MAX_SEQ_LENGTH, model, threshold):\n",
    "    tweets_data = util_helpers.preprocess_tweets([tweet_text], tokenizer,MAX_SEQ_LENGTH)\n",
    "    pred_probabilities = model.predict(tweets_data, batch_size=50).flatten()\n",
    "    pred_labels = np.where(np.array(pred_probabilities) > threshold, 'Y', 'N')\n",
    "    return pred_labels[0]    "
   ]
  },
  {
   "cell_type": "code",
   "execution_count": 48,
   "metadata": {
    "collapsed": false
   },
   "outputs": [
    {
     "data": {
      "text/plain": [
       "'Y'"
      ]
     },
     "execution_count": 48,
     "metadata": {},
     "output_type": "execute_result"
    }
   ],
   "source": [
    "# true label = Y\n",
    "tweet = \"you can get Guillain barre syndrome from the flu shot (aka you're paralyzed for months  including respiratory)\"\n",
    "predict_one_tweet(tweet,MAX_SEQ_LENGTH,cnn_model, threshold)"
   ]
  },
  {
   "cell_type": "code",
   "execution_count": 49,
   "metadata": {
    "collapsed": false
   },
   "outputs": [
    {
     "data": {
      "text/plain": [
       "'N'"
      ]
     },
     "execution_count": 49,
     "metadata": {},
     "output_type": "execute_result"
    }
   ],
   "source": [
    "# true label = N\n",
    "tweet = \"Pam made me go to Kroger and get my flu shot for fuel points...\"\n",
    "predict_one_tweet(tweet,MAX_SEQ_LENGTH,cnn_model, threshold)"
   ]
  },
  {
   "cell_type": "markdown",
   "metadata": {
    "collapsed": true
   },
   "source": [
    "## LSTM Predict"
   ]
  },
  {
   "cell_type": "code",
   "execution_count": 57,
   "metadata": {
    "collapsed": true
   },
   "outputs": [],
   "source": [
    "pred_probabilities = lstm_att_model.predict(tweets_data, batch_size=50).flatten()\n",
    "with open(\"lst_att_pred_probabilities.pickle\", \"w\") as f:\n",
    "    pickle.dump(pred_probabilities, f)"
   ]
  },
  {
   "cell_type": "code",
   "execution_count": 58,
   "metadata": {
    "collapsed": false
   },
   "outputs": [
    {
     "name": "stdout",
     "output_type": "stream",
     "text": [
      "F1 scores\n",
      "threshold   |  tn   |  fp  |   fn   |  tp   | f1 score                  | recall  |precision|\n",
      "-----------------------------------------------------------------------------------------------\n",
      "0.050:        946    5242       0     787    ( 0.265 ,  0.231 ) = 0.248   1.000     0.131  \n",
      "-----------------------------------------------------------------------------------------------\n",
      "0.100:       4182    2006      20     767    ( 0.805 ,  0.431 ) = 0.710   0.975     0.277  \n",
      "-----------------------------------------------------------------------------------------------\n",
      "0.150:       4800    1388      31     756    ( 0.871 ,  0.516 ) = 0.797   0.961     0.353  \n",
      "-----------------------------------------------------------------------------------------------\n",
      "0.200:       5069    1119      36     751    ( 0.898 ,  0.565 ) = 0.834   0.954     0.402  \n",
      "-----------------------------------------------------------------------------------------------\n",
      "0.250:       5241     947      39     748    ( 0.914 ,  0.603 ) = 0.859   0.950     0.441  \n",
      "-----------------------------------------------------------------------------------------------\n",
      "0.300:       5363     825      45     742    ( 0.925 ,  0.630 ) = 0.875   0.943     0.474  \n",
      "-----------------------------------------------------------------------------------------------\n",
      "0.400:       5518     670      57     730    ( 0.938 ,  0.668 ) = 0.896   0.928     0.521  \n",
      "-----------------------------------------------------------------------------------------------\n",
      "0.500:       5636     552      64     723    ( 0.948 ,  0.701 ) = 0.912   0.919     0.567  \n",
      "-----------------------------------------------------------------------------------------------\n",
      "0.600:       5749     439      78     709    ( 0.957 ,  0.733 ) = 0.926   0.901     0.618  \n",
      "-----------------------------------------------------------------------------------------------\n",
      "0.700:       5845     343     102     685    ( 0.963 ,  0.755 ) = 0.936   0.870     0.666  \n",
      "-----------------------------------------------------------------------------------------------\n",
      "0.800:       5949     239     134     653    ( 0.970 ,  0.778 ) = 0.947   0.830     0.732  \n",
      "-----------------------------------------------------------------------------------------------\n",
      "0.900:       6051     137     250     537    ( 0.969 ,  0.735 ) = 0.945   0.682     0.797  \n",
      "-----------------------------------------------------------------------------------------------\n",
      "0.950:       6122      66     418     369    ( 0.962 ,  0.604 ) = 0.931   0.469     0.848  \n",
      "-----------------------------------------------------------------------------------------------\n"
     ]
    }
   ],
   "source": [
    "util_helpers.show_scores(n_labels, pred_probabilities)"
   ]
  },
  {
   "cell_type": "code",
   "execution_count": 59,
   "metadata": {
    "collapsed": false
   },
   "outputs": [
    {
     "data": {
      "text/plain": [
       "0.92382621116083996"
      ]
     },
     "execution_count": 59,
     "metadata": {},
     "output_type": "execute_result"
    }
   ],
   "source": [
    "from sklearn import metrics\n",
    "fpr, tpr, thresholds = metrics.roc_curve(n_labels, n_pred_labels, pos_label = 1)\n",
    "roc_auc = metrics.auc(fpr, tpr)\n",
    "roc_auc"
   ]
  },
  {
   "cell_type": "code",
   "execution_count": 60,
   "metadata": {
    "collapsed": false
   },
   "outputs": [
    {
     "data": {
      "text/plain": [
       "'Y'"
      ]
     },
     "execution_count": 60,
     "metadata": {},
     "output_type": "execute_result"
    }
   ],
   "source": [
    "# true label = Y\n",
    "tweet = \"you can get Guillain barre syndrome from the flu shot (aka you're paralyzed for months  including respiratory)\"\n",
    "predict_one_tweet(tweet,MAX_SEQ_LENGTH,lstm_att_model, threshold)"
   ]
  },
  {
   "cell_type": "code",
   "execution_count": 61,
   "metadata": {
    "collapsed": false
   },
   "outputs": [
    {
     "data": {
      "text/plain": [
       "'N'"
      ]
     },
     "execution_count": 61,
     "metadata": {},
     "output_type": "execute_result"
    }
   ],
   "source": [
    "# true label = N\n",
    "tweet = \"Pam made me go to Kroger and get my flu shot for fuel points...\"\n",
    "predict_one_tweet(tweet,MAX_SEQ_LENGTH,lstm_att_model, threshold)"
   ]
  },
  {
   "cell_type": "code",
   "execution_count": null,
   "metadata": {
    "collapsed": true
   },
   "outputs": [],
   "source": []
  }
 ],
 "metadata": {
  "anaconda-cloud": {},
  "kernelspec": {
   "display_name": "Python [Root]",
   "language": "python",
   "name": "Python [Root]"
  },
  "language_info": {
   "codemirror_mode": {
    "name": "ipython",
    "version": 2
   },
   "file_extension": ".py",
   "mimetype": "text/x-python",
   "name": "python",
   "nbconvert_exporter": "python",
   "pygments_lexer": "ipython2",
   "version": "2.7.12"
  }
 },
 "nbformat": 4,
 "nbformat_minor": 2
}
