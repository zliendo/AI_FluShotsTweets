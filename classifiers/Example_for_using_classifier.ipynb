{
 "cells": [
  {
   "cell_type": "code",
   "execution_count": 19,
   "metadata": {
    "collapsed": true
   },
   "outputs": [],
   "source": [
    "import pickle\n",
    "import csv\n",
    "from sklearn import metrics"
   ]
  },
  {
   "cell_type": "code",
   "execution_count": 2,
   "metadata": {
    "collapsed": true
   },
   "outputs": [],
   "source": [
    "#reading vectorizer\n",
    "file = open('TfidfVectorizer.pkl', 'rb')\n",
    "tfidf_vectorizer = pickle.load(file)\n",
    "file.close()\n",
    "\n",
    "#reading model\n",
    "file = open('twitter_flu_LR_classifier.pkl', 'rb')\n",
    "twitter_flu_classifier = pickle.load(file)\n",
    "file.close()"
   ]
  },
  {
   "cell_type": "code",
   "execution_count": 13,
   "metadata": {
    "collapsed": false
   },
   "outputs": [],
   "source": [
    "#reading data to classify\n",
    "with open('dev_tweets.csv', 'rb') as csvfile:\n",
    "    twitter_flu_reader = csv.reader(csvfile)\n",
    "    dev_tweets =[row[0] for row in twitter_flu_reader]\n"
   ]
  },
  {
   "cell_type": "code",
   "execution_count": 15,
   "metadata": {
    "collapsed": true
   },
   "outputs": [],
   "source": [
    "#sample of classifying\n",
    "dev_tweets_vector = tfidf_vectorizer.transform(dev_tweets)\n",
    "predicted_labels = twitter_flu_classifier.predict(dev_tweets_vector)"
   ]
  },
  {
   "cell_type": "code",
   "execution_count": 22,
   "metadata": {
    "collapsed": false
   },
   "outputs": [],
   "source": [
    "#cross validation of pkl files\n",
    "#with open('dev_labels.csv', 'rb') as csvfile:\n",
    "#    twitter_flu_reader = csv.reader(csvfile)\n",
    "#    dev_labels =[row[0] for row in twitter_flu_reader]  \n",
    "    \n",
    "#score = metrics.f1_score(dev_labels,predicted_labels, pos_label = \"Y\")\n",
    "#print 'f1 score: ', score"
   ]
  },
  {
   "cell_type": "code",
   "execution_count": null,
   "metadata": {
    "collapsed": true
   },
   "outputs": [],
   "source": []
  }
 ],
 "metadata": {
  "kernelspec": {
   "display_name": "Python [Root]",
   "language": "python",
   "name": "Python [Root]"
  },
  "language_info": {
   "codemirror_mode": {
    "name": "ipython",
    "version": 2
   },
   "file_extension": ".py",
   "mimetype": "text/x-python",
   "name": "python",
   "nbconvert_exporter": "python",
   "pygments_lexer": "ipython2",
   "version": "2.7.12"
  }
 },
 "nbformat": 4,
 "nbformat_minor": 0
}
