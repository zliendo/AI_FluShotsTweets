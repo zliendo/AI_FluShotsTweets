{
 "cells": [
  {
   "cell_type": "code",
   "execution_count": 1,
   "metadata": {
    "collapsed": true
   },
   "outputs": [],
   "source": [
    "import csv"
   ]
  },
  {
   "cell_type": "code",
   "execution_count": 2,
   "metadata": {
    "collapsed": true
   },
   "outputs": [],
   "source": [
    "inputFile = '../Data/FilesMTurkOutput/Batch13_3026287_batch_results.csv'\n",
    "outputFile = '../Data/Output_Processed/Batch113_vertical.csv'\n",
    "\n",
    "#inputFile = 'Batch6_D2F_2979325_batch_resultS.csv'\n",
    "#outputFile = 'Batch6_D2F_vertical.csv'\n",
    "\n",
    "#inputFile = 'Batch5E_2972559_batch_results.csv'\n",
    "#outputFile = 'Batch5E_vertical.csv'"
   ]
  },
  {
   "cell_type": "code",
   "execution_count": 3,
   "metadata": {
    "collapsed": true
   },
   "outputs": [],
   "source": [
    "def consolidate_answers(w1_answer,w2_answer, w3_answer):\n",
    "    count = 0\n",
    "    if (w1_answer == \"Yes\"):\n",
    "        count +=1\n",
    "    if (w2_answer == \"Yes\"):\n",
    "        count +=1\n",
    "    if (w3_answer == \"Yes\"):\n",
    "        count +=1\n",
    "        \n",
    "    if count == 3:\n",
    "        agreement= \"yes\"\n",
    "        response = \"Y\"\n",
    "    elif count == 2:\n",
    "        agreement = \"no1\"\n",
    "        response = \"Y\"\n",
    "    elif count == 1:\n",
    "        agreement = \"no2\"\n",
    "        response = \"N\"\n",
    "    else:\n",
    "        agreement = \"no3\"\n",
    "        response = \"N\"\n",
    "    return (agreement, response)"
   ]
  },
  {
   "cell_type": "code",
   "execution_count": 4,
   "metadata": {
    "collapsed": false
   },
   "outputs": [],
   "source": [
    "with open(inputFile, 'rb') as csvfile, open(outputFile, 'w') as fout:\n",
    "    tweet_reader = csv.reader(csvfile, delimiter=',')\n",
    "    writer = csv.writer(fout, delimiter=',',lineterminator='\\n')\n",
    "    header = ['tweet', 'tweet-tween', 'tweet-tween2', 'worker1', 'worker2', 'worker3',  'agreement','response',]\n",
    "    writer.writerow(header)\n",
    "    count =0\n",
    "\n",
    "    for row in tweet_reader:\n",
    "        if (count > 0 and count %3 == 1):\n",
    "            #first worker for tweet set            \n",
    "            worker1_tweet1 = row[27]\n",
    "            worker1_tweet2 = row[28]\n",
    "            worker1_tweet3 = row[29]\n",
    "            worker1_tweet4 = row[30]\n",
    "            worker1_tweet5 = row[31]            \n",
    "            worker1_answer1 = row[32]\n",
    "            worker1_answer2 = row[33]\n",
    "            worker1_answer3 = row[34]\n",
    "            worker1_answer4 = row[35]\n",
    "            worker1_answer5 = row[36]\n",
    "        if (count > 0 and count %3 == 2):\n",
    "            #second worker for tweet set\n",
    "\n",
    "                \n",
    "            worker2_tweet1 = row[27]\n",
    "            worker2_tweet2 = row[28]\n",
    "            worker2_tweet3 = row[29]\n",
    "            worker2_tweet4 = row[30]\n",
    "            worker2_tweet5 = row[31]\n",
    "            worker2_answer1 = row[32]\n",
    "            worker2_answer2 = row[33]\n",
    "            worker2_answer3 = row[34]\n",
    "            worker2_answer4 = row[35]\n",
    "            worker2_answer5 = row[36]\n",
    "        if (count > 0 and count %3 == 0):\n",
    "            #third worker for tweet set\n",
    "            worker3_tweet1 = row[27]\n",
    "            worker3_tweet2 = row[28]\n",
    "            worker3_tweet3 = row[29]\n",
    "            worker3_tweet4 = row[30]\n",
    "            worker3_tweet5 = row[31]\n",
    "            worker3_answer1 = row[32]\n",
    "            worker3_answer2 = row[33]\n",
    "            worker3_answer3 = row[34]\n",
    "            worker3_answer4 = row[35]\n",
    "            worker3_answer5 = row[36]\n",
    "            \n",
    "            #calculate agreement\n",
    "\n",
    "            #first tweet\n",
    "            agreement, response = consolidate_answers(worker1_answer1 ,worker2_answer1,worker3_answer1 )\n",
    "            new_row = [ worker1_tweet1, worker2_tweet1,worker3_tweet1 , worker1_answer1 ,worker2_answer1,worker3_answer1,agreement, response]   \n",
    "            writer.writerow(new_row)\n",
    "            #second tweet\n",
    "            agreement, response = consolidate_answers(worker1_answer2 ,worker2_answer2,worker3_answer2 )\n",
    "            new_row = [ worker1_tweet2, worker2_tweet2,worker3_tweet2 , worker1_answer2 ,worker2_answer2,worker3_answer2,agreement, response] \n",
    "            writer.writerow(new_row)\n",
    "            #third tweet\n",
    "            agreement, response = consolidate_answers(worker1_answer3 ,worker2_answer3,worker3_answer3 )\n",
    "            new_row = [ worker1_tweet3, worker2_tweet3,worker3_tweet3 , worker1_answer3 ,worker2_answer3,worker3_answer3,agreement, response]     \n",
    "            writer.writerow(new_row)\n",
    "            #fourth tweet\n",
    "            agreement, response = consolidate_answers(worker1_answer4 ,worker2_answer4,worker3_answer4 )\n",
    "            new_row = [ worker1_tweet4, worker2_tweet4,worker3_tweet4 , worker1_answer4 ,worker2_answer4,worker3_answer4,agreement, response]   \n",
    "            writer.writerow(new_row)\n",
    "            #fifth tweet\n",
    "            agreement, response = consolidate_answers(worker1_answer5 ,worker2_answer5,worker3_answer5 )\n",
    "            new_row = [ worker1_tweet5, worker2_tweet5,worker3_tweet5 , worker1_answer5 ,worker2_answer5,worker3_answer5,agreement, response] \n",
    " \n",
    "            writer.writerow(new_row)\n",
    "            \n",
    "        count +=1\n",
    "            "
   ]
  },
  {
   "cell_type": "code",
   "execution_count": null,
   "metadata": {
    "collapsed": true
   },
   "outputs": [],
   "source": []
  },
  {
   "cell_type": "code",
   "execution_count": null,
   "metadata": {
    "collapsed": true
   },
   "outputs": [],
   "source": []
  }
 ],
 "metadata": {
  "anaconda-cloud": {},
  "kernelspec": {
   "display_name": "Python [Root]",
   "language": "python",
   "name": "Python [Root]"
  },
  "language_info": {
   "codemirror_mode": {
    "name": "ipython",
    "version": 2
   },
   "file_extension": ".py",
   "mimetype": "text/x-python",
   "name": "python",
   "nbconvert_exporter": "python",
   "pygments_lexer": "ipython2",
   "version": "2.7.12"
  }
 },
 "nbformat": 4,
 "nbformat_minor": 0
}
