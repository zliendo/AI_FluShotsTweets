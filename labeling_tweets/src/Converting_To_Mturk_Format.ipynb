{
 "cells": [
  {
   "cell_type": "code",
   "execution_count": 1,
   "metadata": {
    "collapsed": true
   },
   "outputs": [],
   "source": [
    "import csv"
   ]
  },
  {
   "cell_type": "code",
   "execution_count": 6,
   "metadata": {
    "collapsed": true
   },
   "outputs": [],
   "source": [
    "inputFileName = '../Data/OriginalTweets/batch13_2000.csv'\n",
    "outputFileName = '../Data/FilesMturkInput/batch13_2000_horizontal.csv'\n",
    "ntweets_by_row = 5"
   ]
  },
  {
   "cell_type": "code",
   "execution_count": 7,
   "metadata": {
    "collapsed": false
   },
   "outputs": [],
   "source": [
    "with open(inputFileName, 'rb') as csvfile, open(outputFileName, 'w') as fout:\n",
    "    tweet_reader = csv.reader(csvfile, delimiter=',')\n",
    "    writer = csv.writer(fout, delimiter=',',lineterminator='\\n')\n",
    "    header = ['Tweet_1', 'Tweet_2', 'Tweet_3', 'Tweet_4', 'Tweet_5']\n",
    "    writer.writerow(header)\n",
    "    count =0\n",
    "    \n",
    "    for row in tweet_reader:\n",
    "        count +=1\n",
    "        if  (count %5 == 1):\n",
    "            tweet_1 = row[6]\n",
    "        if  (count %5 == 2):\n",
    "            tweet_2 = row[6]\n",
    "        if  (count %5 == 3):\n",
    "            tweet_3 = row[6]\n",
    "        if  (count %5 == 4):\n",
    "            tweet_4 = row[6]    \n",
    "        if  (count %5 == 0):\n",
    "            tweet_5 = row[6] \n",
    "            #write record\n",
    "            new_row =[tweet_1, tweet_2, tweet_3, tweet_4, tweet_5]\n",
    "            writer.writerow(new_row)"
   ]
  },
  {
   "cell_type": "code",
   "execution_count": null,
   "metadata": {
    "collapsed": true
   },
   "outputs": [],
   "source": []
  },
  {
   "cell_type": "code",
   "execution_count": null,
   "metadata": {
    "collapsed": true
   },
   "outputs": [],
   "source": []
  }
 ],
 "metadata": {
  "anaconda-cloud": {},
  "kernelspec": {
   "display_name": "Python [Root]",
   "language": "python",
   "name": "Python [Root]"
  },
  "language_info": {
   "codemirror_mode": {
    "name": "ipython",
    "version": 2
   },
   "file_extension": ".py",
   "mimetype": "text/x-python",
   "name": "python",
   "nbconvert_exporter": "python",
   "pygments_lexer": "ipython2",
   "version": "2.7.12"
  }
 },
 "nbformat": 4,
 "nbformat_minor": 0
}
